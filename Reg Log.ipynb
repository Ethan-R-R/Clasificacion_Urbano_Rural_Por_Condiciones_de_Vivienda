{
 "cells": [
  {
   "cell_type": "markdown",
   "metadata": {},
   "source": [
    "Este proyecto se puede ver como una continuación a uno anterior en el que se intentaba predecir el logaritmo base 10 de la población con base a las condiciones de vivienda. Este proyecto intentará hacer algo similar para predecir si un asentamiento se considera zona rural o urbana de acuerdo con la definición del INEGI, donde a partir de 2,500 personas se considera ciudad.\n",
    "\n",
    "El proceso de depuración de la base de datos, y las interacciones se reciclarán por completo del [proyecto anterior](https://ethan-r-r.github.io/Modelo-Poblacion-por-condiciones-de-vivienda/) en donde se explica más a detalle. \n",
    "\n",
    "Empezaremos importando la base de datos y haciendo procesos para eliminar espacios vacíos, borrar variables de poco interés, etc.\n"
   ]
  },
  {
   "cell_type": "code",
   "execution_count": 84,
   "metadata": {},
   "outputs": [
    {
     "name": "stdout",
     "output_type": "stream",
     "text": [
      "Tamaño original  (4821, 54)\n",
      "4        0\n",
      "5       53\n",
      "6       53\n",
      "7       53\n",
      "8       53\n",
      "        ..\n",
      "4966    53\n",
      "4967    53\n",
      "4968    53\n",
      "4969    53\n",
      "4970    53\n",
      "Name: DatosVacios, Length: 4821, dtype: int64\n",
      "Observaciones eliminando las que tienen menos de la mitad de los datos (1990, 55)\n",
      "Observaciones eliminando las que no tienen todos los datos  (1990, 55)\n",
      "Index(['POBTOT', 'TOTHOG', 'HOGJEF_F', 'HOGJEF_M', 'POBHOG', 'PHOGJEF_F',\n",
      "       'PHOGJEF_M', 'VIVPARH_CV', 'VIVPAR_DES', 'VIVPAR_UT', 'PROM_OCUP',\n",
      "       'PRO_OCUP_C', 'VPH_PISODT', 'VPH_PISOTI', 'VPH_1DOR', 'VPH_2YMASD',\n",
      "       'VPH_1CUART', 'VPH_2CUART', 'VPH_3YMASC', 'VPH_C_ELEC', 'VPH_S_ELEC',\n",
      "       'VPH_AGUADV', 'VPH_AEASP', 'VPH_AGUAFV', 'VPH_TINACO', 'VPH_CISTER',\n",
      "       'VPH_EXCSA', 'VPH_LETR', 'VPH_DRENAJ', 'VPH_NODREN', 'VPH_C_SERV',\n",
      "       'VPH_NDEAED', 'VPH_DSADMA', 'VPH_NDACMM', 'VPH_SNBIEN', 'VPH_REFRI',\n",
      "       'VPH_LAVAD', 'VPH_HMICRO', 'VPH_AUTOM', 'VPH_MOTO', 'VPH_BICI',\n",
      "       'VPH_RADIO', 'VPH_TV', 'VPH_PC', 'VPH_TELEF', 'VPH_CEL', 'VPH_INTER',\n",
      "       'VPH_STVP', 'VPH_SPMVPI', 'VPH_CVJ', 'VPH_SINRTV', 'VPH_SINLTC',\n",
      "       'VPH_SINCINT', 'VPH_SINTIC', 'DatosVacios'],\n",
      "      dtype='object')\n"
     ]
    }
   ],
   "source": [
    "import pandas as pd \n",
    "import numpy as np\n",
    "import matplotlib.pyplot as plt \n",
    "\n",
    "df = pd.read_csv(\"conjunto_de_datos_iter_19CSV20.csv\")\n",
    "\n",
    "#https://sparkbyexamples.com/pandas/pandas-delete-rows-based-on-column-value/#:~:text=To%20delete%20rows%20based%20on%20specific%20column%20values%20in%20a,method%20to%20remove%20those%20rows.\n",
    "df = df.drop(df[df[\"LATITUD\"].isnull()].index)\n",
    "\n",
    "#variables cualitativas o redundantes se dejaron en la base de datos por si se quiere revisar individualmente algo de las caracteristicas de la zona\n",
    "df = df.drop(columns = ['ENTIDAD','NOM_ENT','MUN','LOC','NOM_MUN','LONGITUD','LATITUD','ALTITUD'])\n",
    "#Trabajaremos solo con las viviendas particulares. \n",
    "df = df.drop(columns = ['VIVTOT','TVIVHAB','TVIVPAR','OCUPVIVPAR','TVIVPARHAB'])\n",
    "df.drop('NOM_LOC',inplace = True,axis=1)\n",
    "\n",
    "print(\"Tamaño original \", df.shape)\n",
    "#la siguiente linea se genero con ayuda de chatgpt\n",
    "#añade una columna que incluye la cantidad de huecos que tiene cada fila\n",
    "df[\"DatosVacios\"] = df.isnull().sum(axis=1)\n",
    "print(df.DatosVacios)\n",
    "\n",
    "\n",
    "\n",
    "df.drop(df[df[\"DatosVacios\"]>=(30)].index, inplace=True)\n",
    "print(\"Observaciones eliminando las que tienen menos de la mitad de los datos\", df.shape)\n",
    "#Nos quedan solo 2135 observaciones que cumplen el criterio\n",
    "df.drop(df[df[\"DatosVacios\"]>(0)].index, inplace=True)\n",
    "print(\"Observaciones eliminando las que no tienen todos los datos \", df.shape)\n",
    "print(df.columns)\n"
   ]
  },
  {
   "cell_type": "markdown",
   "metadata": {},
   "source": [
    "Igual que en el proyecto anterior, es mucho más interesante hacer predicciones de la población utilizando la proporción de viviendas con una característica, que directamente usar el número de viviendas con dicha característica (excepto las que representan otros valores como el promedio de ocupantes por vivienda y el promedio de ocupantes por cuarto). "
   ]
  },
  {
   "cell_type": "code",
   "execution_count": 85,
   "metadata": {},
   "outputs": [
    {
     "name": "stdout",
     "output_type": "stream",
     "text": [
      "    POBTOT    TOTHOG  HOGJEF_F  HOGJEF_M    POBHOG  PHOGJEF_F  PHOGJEF_M  \\\n",
      "4     1992  1.000000  0.301471  0.698529  3.661765   1.029412   2.632353   \n",
      "13      15  1.000000  0.000000  1.000000  5.000000   0.000000   5.000000   \n",
      "16      53  1.000000  0.214286  0.785714  3.785714   0.857143   2.928571   \n",
      "17     870  1.013216  0.259912  0.753304  3.832599   0.955947   2.876652   \n",
      "21    2080  1.001325  0.242384  0.758940  2.747020   0.545695   2.201325   \n",
      "\n",
      "    VIVPARH_CV  VIVPAR_DES  VIVPAR_UT  ...   VPH_CEL  VPH_INTER  VPH_STVP  \\\n",
      "4        544.0    0.306985   0.154412  ...  0.920956   0.476103  0.474265   \n",
      "13         3.0    1.666667   0.000000  ...  1.000000   0.000000  0.333333   \n",
      "16        14.0    0.928571   0.285714  ...  1.000000   0.285714  0.285714   \n",
      "17       227.0    0.264317   0.215859  ...  0.960352   0.370044  0.409692   \n",
      "21       755.0    0.605298   0.437086  ...  0.876821   0.500662  0.617219   \n",
      "\n",
      "    VPH_SPMVPI   VPH_CVJ  VPH_SINRTV  VPH_SINLTC  VPH_SINCINT  VPH_SINTIC  \\\n",
      "4     0.181985  0.152574    0.016544    0.060662     0.470588    0.009191   \n",
      "13    0.000000  0.000000    0.000000    0.000000     1.000000    0.000000   \n",
      "16    0.071429  0.071429    0.000000    0.000000     0.642857    0.000000   \n",
      "17    0.110132  0.105727    0.035242    0.039648     0.546256    0.013216   \n",
      "21    0.092715  0.058278    0.030464    0.043709     0.452980    0.003974   \n",
      "\n",
      "    DatosVacios  \n",
      "4             0  \n",
      "13            0  \n",
      "16            0  \n",
      "17            0  \n",
      "21            0  \n",
      "\n",
      "[5 rows x 55 columns]\n"
     ]
    }
   ],
   "source": [
    "#Esta linea de codigo fue hecha con ayuda de CHATGPT\n",
    "excluirDiv = ['PROM_OCUP','PROM_OCUP_C','VIVPARH_CV','POBTOT','NOM_LOC']\n",
    "df.loc[:,~df.columns.isin(excluirDiv) ] = df.loc[:,~df.columns.isin(excluirDiv)].div(df['VIVPARH_CV'],axis=0)\n",
    "print(df.head())\n",
    "df.drop('VIVPARH_CV',inplace = True,axis=1)\n"
   ]
  },
  {
   "cell_type": "markdown",
   "metadata": {},
   "source": [
    "Los valores atípicos ya se trataron en el proyecto anterior, donde se concluyó que todos los valores dentro de la base de datos eran realistas y muy poco probable que se deban a un error. \n",
    "\n",
    "Aquí empiezan las diferencias. En el proyecto anterior la variable de salida era la transformación del logaritmo base 10 de la población. Esto con la intención de linealizar más la relación entre las proporciones de viviendas con una característica y la población total. Ahora no solo no vamos a aplicar el logaritmo, si no que vamos a binarizar la variable para que cuente la cantidad de localidades que se pueden considerar urbanas (población total de más de 2500 personas)\n"
   ]
  },
  {
   "cell_type": "code",
   "execution_count": 86,
   "metadata": {},
   "outputs": [
    {
     "name": "stdout",
     "output_type": "stream",
     "text": [
      "Urbano\n",
      "0    1901\n",
      "1      89\n",
      "Name: count, dtype: int64\n",
      "      TOTHOG  HOGJEF_F  HOGJEF_M    POBHOG  PHOGJEF_F  PHOGJEF_M  VIVPAR_DES  \\\n",
      "4   1.000000  0.301471  0.698529  3.661765   1.029412   2.632353    0.306985   \n",
      "13  1.000000  0.000000  1.000000  5.000000   0.000000   5.000000    1.666667   \n",
      "16  1.000000  0.214286  0.785714  3.785714   0.857143   2.928571    0.928571   \n",
      "17  1.013216  0.259912  0.753304  3.832599   0.955947   2.876652    0.264317   \n",
      "21  1.001325  0.242384  0.758940  2.747020   0.545695   2.201325    0.605298   \n",
      "\n",
      "    VIVPAR_UT  PROM_OCUP  PRO_OCUP_C  ...   VPH_CEL  VPH_INTER  VPH_STVP  \\\n",
      "4    0.154412       3.66    0.001654  ...  0.920956   0.476103  0.474265   \n",
      "13   0.000000       5.00    0.556667  ...  1.000000   0.000000  0.333333   \n",
      "16   0.285714       3.79    0.097143  ...  1.000000   0.285714  0.285714   \n",
      "17   0.215859       3.78    0.004714  ...  0.960352   0.370044  0.409692   \n",
      "21   0.437086       2.74    0.000887  ...  0.876821   0.500662  0.617219   \n",
      "\n",
      "    VPH_SPMVPI   VPH_CVJ  VPH_SINRTV  VPH_SINLTC  VPH_SINCINT  VPH_SINTIC  \\\n",
      "4     0.181985  0.152574    0.016544    0.060662     0.470588    0.009191   \n",
      "13    0.000000  0.000000    0.000000    0.000000     1.000000    0.000000   \n",
      "16    0.071429  0.071429    0.000000    0.000000     0.642857    0.000000   \n",
      "17    0.110132  0.105727    0.035242    0.039648     0.546256    0.013216   \n",
      "21    0.092715  0.058278    0.030464    0.043709     0.452980    0.003974   \n",
      "\n",
      "    Urbano  \n",
      "4        0  \n",
      "13       0  \n",
      "16       0  \n",
      "17       0  \n",
      "21       0  \n",
      "\n",
      "[5 rows x 53 columns]\n"
     ]
    }
   ],
   "source": [
    "#Crear data frame localidades que se pueden considerar ciudad\n",
    "Rural = df.POBTOT <=2500\n",
    "Urbano =pd.DataFrame({\"Urbano\":1-Rural})\n",
    "\n",
    "#concatenar al dataframe original\n",
    "df = pd.concat([df,Urbano],axis=1)\n",
    "\n",
    "df.drop('POBTOT',inplace = True,axis=1)\n",
    "df.drop('DatosVacios',inplace = True,axis=1)\n",
    "print(df.Urbano.value_counts())\n",
    "print(df.head())\n",
    "\n"
   ]
  },
  {
   "cell_type": "markdown",
   "metadata": {},
   "source": [
    "Se puede observar un pesado desbalance de datos. Hay muchas más localidades rurales que urbanas. Más adelante se trabajará para compensar eso, por el momento solo separaremos los datos entre entrenamiento y prueba verificando que esa proporción se mantenga tanto en datos de entrenamiento como de prueba. \n",
    " "
   ]
  },
  {
   "cell_type": "code",
   "execution_count": 87,
   "metadata": {},
   "outputs": [
    {
     "name": "stdout",
     "output_type": "stream",
     "text": [
      "Urbano\n",
      "0    1901\n",
      "1      89\n",
      "Name: count, dtype: int64\n",
      "Urbano\n",
      "0    1522\n",
      "1      70\n",
      "Name: count, dtype: int64\n",
      "Urbano\n",
      "0    379\n",
      "1     19\n",
      "Name: count, dtype: int64\n",
      "(1592, 52)\n"
     ]
    }
   ],
   "source": [
    "# Importar función\n",
    "from sklearn.model_selection import train_test_split\n",
    "# Dividir datos\n",
    "Y = df.Urbano\n",
    "X = df.drop(\"Urbano\",axis=1)\n",
    "\n",
    "X_train, X_test, Y_train, Y_test = train_test_split(X, Y, train_size=0.8, random_state=919)\n",
    "# Imprimir conteo en entrenamiento\n",
    "print(Y.value_counts())\n",
    "print(Y_train.value_counts())\n",
    "\n",
    "# Imprimir conteo en prueba\n",
    "print(Y_test.value_counts())\n",
    "print(X_train.shape)"
   ]
  },
  {
   "cell_type": "markdown",
   "metadata": {},
   "source": [
    "Tanto los valores de entrenamiento como los valores de prueba tienen una proporción  de datos similar; aproximadamente el 20% de las localidades son urbanas.\n",
    "\n",
    "Ahora, trabajar con las 53 variables podría ser muy complicado, por lo que se procederá a hacer una selección de características utilizando la función SequentialFeatureSelector de mlxtend. Haremos solamente el proceso de selección hacia adelante, y le pediremos a  la función le que delimite de 2 a 10 variables, se harán 5 folds en la validación cruzada, cómo métrica de scoring se usará el f1 por el desbalance de datos. \n",
    "\n",
    "Dentro del modelo que se utilizará para la selección de características añadimos el peso de clase balanceado para compensar el desbalance de datos que existe. \n"
   ]
  },
  {
   "cell_type": "code",
   "execution_count": 88,
   "metadata": {},
   "outputs": [
    {
     "name": "stdout",
     "output_type": "stream",
     "text": [
      "[ 6  7 23 46]\n",
      "Index(['VIVPAR_DES', 'VIVPAR_UT', 'VPH_CISTER', 'VPH_SPMVPI'], dtype='object')\n"
     ]
    }
   ],
   "source": [
    "from sklearn.linear_model import LogisticRegression\n",
    "from mlxtend.feature_selection import SequentialFeatureSelector\n",
    "\n",
    "#model = LogisticRegression(class_weight= \"balanced\")\n",
    "#subX = SequentialFeatureSelector(model, k_features=(2,10),forward = True, scoring = \"f1\", cv = 5).fit(X_train,Y_train)\n",
    "#print(\"Variables seleccionadas\", subX.k_feature_names_)\n",
    "#NewIndx = list(subX.k_feature_idx_)\n",
    "#XNew = X_train.iloc[:,NewIndx[:]]\n",
    "#Para fácilitar el proceso, corrí una sola vez el proceso de selección de características y guarde las variables acá. Así podría correr el código varias veces sin esperar 40 segundos extra \n",
    "\n",
    "\n",
    "ListaDeCar = ['VIVPAR_DES', 'VIVPAR_UT', 'VPH_CISTER', 'VPH_SPMVPI']\n",
    "#Linea generada con ayuda de IA\n",
    "XNew = X_train.iloc[:,X_train.columns.get_indexer(ListaDeCar)]\n",
    "print(X_train.columns.get_indexer(ListaDeCar))\n",
    "print(XNew.columns)\n",
    "\n",
    "\n"
   ]
  },
  {
   "cell_type": "markdown",
   "metadata": {},
   "source": [
    "Curiosamente, Las variables son diferentes a las que la función eligió para la regresión lineal múltiple, aquí está que significa cada una. \n",
    "\n",
    "VIVPAR_DES_ Viviendas particulares deshabitadas.\n",
    "\n",
    "VIVPAR_UT: Viviendas particulares de uso temporal.\n",
    "\n",
    "VPH_CISTER: Viviendas particulares habitadas que tienen cisterna o aljibe. \n",
    "\n",
    "VPH_SMVPI: Viviendas particulares habitadas que tienen servicio de películas, música o videos de paga por Internet.\n",
    "\n",
    "Procederemos a entrenar un modelo y medir su exactitud utilizando un método de validación cruzada con la librearía sklearn. El método de validación cruzada elegido es k-folds repetido (muchas iteraciones del kfolds), y se medirá la exactitud (accuracy) \n",
    "\n",
    "Se dividirán en 3 folds y se harán 10 iteraciones. \n",
    "\n",
    "Parte del código tomó inspiración de: \n",
    "[https://medium.com/analytics-vidhya/cross-validation-in-machine-learning-using-python-4d0f335bec83](https://medium.com/analytics-vidhya/cross-validation-in-machine-learning-using-python-4d0f335bec83)\n",
    "\n",
    "\n",
    "\n"
   ]
  },
  {
   "cell_type": "code",
   "execution_count": 89,
   "metadata": {},
   "outputs": [
    {
     "name": "stdout",
     "output_type": "stream",
     "text": [
      "Accuracy del modelo:  0.9425186806253819\n"
     ]
    }
   ],
   "source": [
    "from sklearn.model_selection import RepeatedKFold\n",
    "from sklearn.model_selection import cross_val_score\n",
    "\n",
    "cv = RepeatedKFold(n_splits = 5, random_state=1042)\n",
    "model1 = LogisticRegression(penalty= None,class_weight= \"balanced\")\n",
    "scores = cross_val_score(model1,XNew,Y_train,scoring = 'accuracy',cv=cv)\n",
    "\n",
    "print(\"Accuracy del modelo: \", np.mean(scores))\n"
   ]
  },
  {
   "cell_type": "markdown",
   "metadata": {},
   "source": [
    "Tenemos una precisión del 94.2%, nuestro modelo tiene la capacidad de predecir con \n",
    "éxito el 94.2% de las veces si una localidad es urbana o rural con base a la proporción de características de vivienda.\n",
    "\n",
    "Ahora se usará todo el subconjunto de entrenamiento para generar un modelo de predicción y analizar su matriz de confusión para distintos umbrales. \n",
    "\n"
   ]
  },
  {
   "cell_type": "code",
   "execution_count": 90,
   "metadata": {},
   "outputs": [
    {
     "name": "stdout",
     "output_type": "stream",
     "text": [
      "[9.99737487e-01 2.62512595e-04]\n"
     ]
    }
   ],
   "source": [
    "from sklearn.metrics import confusion_matrix\n",
    "from sklearn.metrics import ConfusionMatrixDisplay as cmd\n",
    "model= LogisticRegression(penalty = None, class_weight = \"balanced\").fit(XNew,Y_train)\n",
    "#predecir la probabilidad de ser una clase\n",
    "X_test = X_test.iloc[:,X_test.columns.get_indexer(ListaDeCar)]\n",
    "Prob  = model.predict_proba(X_test)\n",
    "print(Prob[0])\n",
    "\n"
   ]
  },
  {
   "cell_type": "markdown",
   "metadata": {},
   "source": [
    "Ahora, vamos a probar la  sensibilidad, precisión y prueba f1 para distintos umbrales. Empezando con el 50/50\n"
   ]
  },
  {
   "cell_type": "code",
   "execution_count": 91,
   "metadata": {},
   "outputs": [
    {
     "name": "stdout",
     "output_type": "stream",
     "text": [
      "Clases: [0 1]\n",
      "False\n",
      "3579    0\n",
      "1240    0\n",
      "1477    0\n",
      "1940    0\n",
      "3709    0\n",
      "Name: Urbano, dtype: int32\n"
     ]
    },
    {
     "data": {
      "image/png": "[encoded data removed]",
      "text/plain": [
       "<Figure size 640x480 with 2 Axes>"
      ]
     },
     "metadata": {},
     "output_type": "display_data"
    }
   ],
   "source": [
    "print(\"Clases:\", model.classes_)  # Esta linea se generó con ayuda de IA\n",
    "Pred_50 = Prob[:,1]>=0.5\n",
    "print(Pred_50[0])\n",
    "print(Y_test.head())\n",
    "cm_50 = confusion_matrix(Y_test,Pred_50)\n",
    "\n",
    "cmd(cm_50,display_labels = model.classes_).plot(xticks_rotation= \"vertical\")\n",
    "plt.show()"
   ]
  },
  {
   "cell_type": "markdown",
   "metadata": {},
   "source": [
    "La accuracy del modelo en los datos de prueba es de 0.9296, lo cual en un inicio pareciera estar muy bien, también tiene una especificidad muy alta, con un valor de 0.99. La precisión tiene un valor de 0.3902. La sensibilidad de este modelo es del 0.84. Es decir, aunque el modelo predice una gran proporción de localidades urbanas correctamente, también cataloga erróneamente a muchas localidades rurales como urbanas. El valor de f1 es de 0.532869. \n",
    "Esto es de esperarse, debido al desbalance de datos, aun cuando habíamos configurado al modelo para intentar compensarlo, afecta al desempeño.  \n",
    "\n",
    "Podemos intentar variar el umbral para ver como cambian la precisión y la especificidad del modelo. Empezaremos con un umbral menos estricto. Ahora dará un positivo cada que la probabilidad sea mayor al 35%. \n",
    "\n"
   ]
  },
  {
   "cell_type": "code",
   "execution_count": 92,
   "metadata": {},
   "outputs": [
    {
     "name": "stdout",
     "output_type": "stream",
     "text": [
      "False\n"
     ]
    },
    {
     "data": {
      "image/png": "[encoded data removed]",
      "text/plain": [
       "<Figure size 640x480 with 2 Axes>"
      ]
     },
     "metadata": {},
     "output_type": "display_data"
    }
   ],
   "source": [
    "Pred_35 = Prob[:,1]>=0.35\n",
    "print(Pred_35[0])\n",
    "cm_35 = confusion_matrix(Y_test,Pred_35)\n",
    "cmd(cm_35,display_labels = model.classes_).plot(xticks_rotation= \"vertical\")\n",
    "plt.show()"
   ]
  },
  {
   "cell_type": "markdown",
   "metadata": {},
   "source": [
    "Al ver la matriz de confusión del segundo umbral es evidente que no hubo un gran cambio significativo en el desempeño. \n",
    "La sensibilidad del segundo umbral es de 0.842105 La precisión del segundo umbral es de 0.372. El valor de f1 es de 0.516129. No es particularmente distinto del anterior umbral.\n",
    "\n",
    "Ahora, se va a configurar un umbral más estricto que solo admite positivos cuando hay una probabilidad mayor al 90%\n"
   ]
  },
  {
   "cell_type": "code",
   "execution_count": 93,
   "metadata": {},
   "outputs": [
    {
     "name": "stdout",
     "output_type": "stream",
     "text": [
      "False\n"
     ]
    },
    {
     "data": {
      "image/png": "[encoded data removed]",
      "text/plain": [
       "<Figure size 640x480 with 2 Axes>"
      ]
     },
     "metadata": {},
     "output_type": "display_data"
    }
   ],
   "source": [
    "Pred_90 = Prob[:,1]>=0.9\n",
    "print(Pred_90[0])\n",
    "cm_90 = confusion_matrix(Y_test,Pred_90)\n",
    "cmd(cm_90,display_labels = model.classes_).plot(xticks_rotation= \"vertical\")\n",
    "plt.show()"
   ]
  },
  {
   "cell_type": "markdown",
   "metadata": {},
   "source": [
    "El modelo con este umbral tiene una precisión de 0.517, una sensibilidad de 0.789, y una puntuación f1 de 0.625. \n",
    "El umbral más alto es el que tuvo un f1 score y una precisión más alta, sin embargo al costo de una sensibilidad más baja. En general ninguno de los umbrales tuvo un valor mayor a 0.7, esto muy probablemente se pueda deber al marcado desbalance de datos.\n",
    "Otra forma de ver la calidad del modelo es mediante la curva ROC y su área bajo la curva. \n"
   ]
  },
  {
   "cell_type": "code",
   "execution_count": 94,
   "metadata": {},
   "outputs": [
    {
     "data": {
      "image/png": "[encoded data removed]",
      "text/plain": [
       "<Figure size 640x480 with 1 Axes>"
      ]
     },
     "metadata": {},
     "output_type": "display_data"
    },
    {
     "name": "stdout",
     "output_type": "stream",
     "text": [
      "AUC 0.921399805582558\n"
     ]
    }
   ],
   "source": [
    "from sklearn.metrics import roc_auc_score, roc_curve\n",
    "fpr, tpr, thresholds =roc_curve(Y_test,Prob[:,1])\n",
    "plt.plot(fpr,tpr)\n",
    "plt.xlabel('Tasa de falsos Positivos')\n",
    "plt.ylabel('Tasa de verdaderos Positivos')\n",
    "plt.show()\n",
    "print('AUC',roc_auc_score(Y_test,Prob[:,1]))\n",
    "\n"
   ]
  },
  {
   "cell_type": "markdown",
   "metadata": {},
   "source": [
    " \n",
    "La curva ROC y el valor del AUC de 0.9213 nos dice que el modelo tiene una buena calidad. Muy probablemente el escoger otros umbrales habría conseguido un mejor resultado. \n",
    "Ahora haremos un análisis de los coeficientes e inferencias sobre el modelo.\n"
   ]
  },
  {
   "cell_type": "code",
   "execution_count": 122,
   "metadata": {},
   "outputs": [
    {
     "name": "stdout",
     "output_type": "stream",
     "text": [
      "Predictor / Coeficiente\n",
      "[['VIVPAR_DES' -0.8033069049506003]\n",
      " ['VIVPAR_UT' -1.9652036173577243]\n",
      " ['VPH_CISTER' -32.545291768169804]\n",
      " ['VPH_SPMVPI' 29.741252047168338]]\n"
     ]
    }
   ],
   "source": [
    "print(\"Predictor / Coeficiente\")\n",
    "print(np.column_stack([model.feature_names_in_.ravel(),model.coef_.ravel()])) #linea generada con ayuda de IA. \n",
    "\n",
    "\n"
   ]
  },
  {
   "cell_type": "markdown",
   "metadata": {},
   "source": [
    "Asumiendo que cada coeficiente es estadísticamente significativo podemos ver que variables afectan al logaritmo natural de los \"odds\" de que la localidad sea urbana sobre rural. Es decir, cada coeficiente influencia en que tan más probable sea que la localidad sea urbana por rural. \n",
    "\n",
    "Esto significa que, se puede asumir que entre mayor proporción de viviendas deshabitadas, viviendas de uso temporal y viviendas que usan una cisterna o aljibe, la probabilidad de que esa localidad sea urbana baja. Por otro lado, entre mayor sea la proporción de viviendas que cuentan con un sistema de películas, música o videos, mayor es la probabilidad de que sea una localidad urbana. \n",
    "\n",
    "Estos predictores tienen sentido, por ejemplo, es posible que en localidades rurales quizá no haya tanto acceso al drenaje y sea necesario usar una cisterna, por lo que la proporción de viviendas que la usan sube\n",
    "\n",
    "\n"
   ]
  }
 ],
 "metadata": {
  "kernelspec": {
   "display_name": "base",
   "language": "python",
   "name": "python3"
  },
  "language_info": {
   "codemirror_mode": {
    "name": "ipython",
    "version": 3
   },
   "file_extension": ".py",
   "mimetype": "text/x-python",
   "name": "python",
   "nbconvert_exporter": "python",
   "pygments_lexer": "ipython3",
   "version": "3.12.3"
  }
 },
 "nbformat": 4,
 "nbformat_minor": 2
}
